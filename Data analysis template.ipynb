{
 "cells": [
  {
   "cell_type": "code",
   "execution_count": null,
   "metadata": {},
   "outputs": [],
   "source": [
    "# Data Analysis notebook template\n",
    "\n",
    "# libraries imports\n",
    "import pandas as pd\n",
    "import numpy as np"
   ]
  },
  {
   "cell_type": "code",
   "execution_count": null,
   "metadata": {},
   "outputs": [],
   "source": [
    "# import data\n",
    "\n",
    "# url_input = add link here\n",
    "df = read_csv(url_input, sep='\\t')\n",
    "df = read_excel(url_input, sep='\\t') \n",
    "\n",
    "## import and fix datatypes\n",
    "types = {'col1': 'string', 'col2': int}\n",
    "df = pd.read_excel(url_input, sheet_name, dtype=types, engine=\"openpyxl\")\n",
    "df"
   ]
  },
  {
   "cell_type": "code",
   "execution_count": null,
   "metadata": {},
   "outputs": [],
   "source": [
    "# profile\n",
    "\n",
    "df.head()\n",
    "df.tail()\n",
    "df.info()\n",
    "df.shape()\n",
    "df.columns()\n",
    "df.index()\n",
    "df.dtype()"
   ]
  },
  {
   "cell_type": "code",
   "execution_count": null,
   "metadata": {},
   "outputs": [],
   "source": [
    "# filtering\n",
    "\n",
    "## drop duplicates\n",
    "df2 = df.drop_duplicates(subset=['col1', 'col2'])\n",
    "\n",
    "## sort\n",
    "df_sorted = df.sort_values(by='col1', ascending=False)\n",
    "\n",
    "## filter by a value\n",
    "df[df['col1']=='string']\n",
    "\n",
    "## filter with two conditions\n",
    "df[(df['col1']=='string') & (df['col2']>1)]\n",
    "\n",
    "## filter with loc - all rows\n",
    "df.loc[:,'col1']\n",
    "\n",
    "## ## filter with loc - all columns\n",
    "df.loc[1, :]"
   ]
  },
  {
   "cell_type": "code",
   "execution_count": null,
   "metadata": {},
   "outputs": [],
   "source": [
    "# Sorting\n",
    "\n",
    "df.sort_values('col1',ascending=False)\n",
    "\n"
   ]
  },
  {
   "cell_type": "code",
   "execution_count": null,
   "metadata": {},
   "outputs": [],
   "source": [
    "# Grouping\n",
    "\n",
    "## groupby col1 and aggregate by col2\n",
    "df.groupby(['col1']).agg(['mean','min','max'])['col2']"
   ]
  },
  {
   "cell_type": "code",
   "execution_count": null,
   "metadata": {},
   "outputs": [],
   "source": [
    "# Joining / merging\n",
    "# https://pandas.pydata.org/pandas-docs/stable/user_guide/merging.html\n",
    "# compare with sql\n",
    "# https://pandas.pydata.org/pandas-docs/stable/getting_started/comparison/comparison_with_sql.html#compare-with-sql-join\n",
    "\n",
    "df_merg1 = read_csv(url, sep='\\t')\n",
    "df_merg2 = read_csv(url, sep='\\t')\n",
    "\n",
    "# axis=0 will append\n",
    "result = pd.concat([df_merg1,cadf_merg2], axis=0)\n",
    "# quicker way to append\n",
    "result = df_merg1.append(df_merg2)\n",
    "\n",
    "# axis=1 will join\n",
    "pd.concat([df_merg1,cadf_merg2], axis=1, join=\"inner\")"
   ]
  },
  {
   "cell_type": "code",
   "execution_count": null,
   "metadata": {},
   "outputs": [],
   "source": [
    "# Date and time\n",
    "\n",
    "df['Date'] = pd.to_datetime(df['Date_col'], format='%d/%m/%Y')"
   ]
  },
  {
   "cell_type": "code",
   "execution_count": null,
   "metadata": {},
   "outputs": [],
   "source": [
    "# String functions\n",
    "\n",
    "df['col1'].str.contains(\"a string\")\n",
    "df['col1'].str.extract(\"a string\")\n",
    "df['col1'].str.split(\"a string\", expand=True)\n",
    "\n",
    "df['col1'].replace(\"a string\", expand=True)\n"
   ]
  },
  {
   "cell_type": "code",
   "execution_count": null,
   "metadata": {},
   "outputs": [],
   "source": [
    "# Stats\n",
    "\n",
    "df['col1'].value_counts()\n",
    "\n",
    "df.len('col1')\n",
    "\n",
    "df.count()\n",
    "\n",
    "df.describe()\n",
    "\n",
    "df['col1'].std()"
   ]
  },
  {
   "cell_type": "code",
   "execution_count": null,
   "metadata": {},
   "outputs": [],
   "source": [
    "# visualise - basic plots\n",
    "# https://pandas.pydata.org/pandas-docs/stable/user_guide/visualization.html\n",
    "\n",
    "# using Altair: A declarative statistical visualization library for Python.\n",
    "import altair as alt\n",
    "\n",
    "alt.Chart(iris).mark_point().encode(\n",
    "    x='petalLength',\n",
    "    y='petalWidth',\n",
    "    color='species'\n",
    ")\n",
    "\n",
    "alt.Chart(iris).mark_bar().encode(\n",
    "    x=alt.X('petalLength', bin=True),\n",
    "    y='count()'\n",
    ")"
   ]
  },
  {
   "cell_type": "code",
   "execution_count": null,
   "metadata": {},
   "outputs": [],
   "source": [
    "# export\n",
    "\n",
    "# url_export = add link\n",
    "df.to_excel(url_export)\n",
    "\n",
    "# to more than one sheet\n",
    "with pd.ExcelWriter(url_export) as writer:  \n",
    "    df1.to_excel(writer, sheet_name='Sheet_name_1')\n",
    "    df2.to_excel(writer, sheet_name='Sheet_name_2')"
   ]
  }
 ],
 "metadata": {
  "kernelspec": {
   "display_name": "Python 3",
   "language": "python",
   "name": "python3"
  },
  "language_info": {
   "codemirror_mode": {
    "name": "ipython",
    "version": 3
   },
   "file_extension": ".py",
   "mimetype": "text/x-python",
   "name": "python",
   "nbconvert_exporter": "python",
   "pygments_lexer": "ipython3",
   "version": "3.7.4"
  }
 },
 "nbformat": 4,
 "nbformat_minor": 2
}